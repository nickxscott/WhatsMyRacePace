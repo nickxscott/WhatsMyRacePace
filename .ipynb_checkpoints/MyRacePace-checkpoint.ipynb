{
 "cells": [
  {
   "cell_type": "markdown",
   "id": "20d39221-263f-4191-9b7f-1d3f1cd47840",
   "metadata": {},
   "source": [
    "This was the initial draft where I worked out the code and math involved in calculating race paces given inputs of distance, hours, minutes, and seconds"
   ]
  },
  {
   "cell_type": "code",
   "execution_count": 1,
   "id": "9a226421-1a9b-415b-914b-938f29f23639",
   "metadata": {},
   "outputs": [],
   "source": [
    "Marathon = 26.2\n",
    "Half_Marathon = 13.1\n",
    "TenK = 6.2\n",
    "FiveK = 3.1"
   ]
  },
  {
   "cell_type": "code",
   "execution_count": 2,
   "id": "05969334-6706-4cf1-9bf0-baa344fbce6c",
   "metadata": {},
   "outputs": [],
   "source": [
    "def get_race_pace(distance, hour, minutes, seconds):\n",
    "    \n",
    "    pace_raw = ((hour*60)+minutes+(seconds/60))/distance\n",
    "    minutes = int(pace_raw)\n",
    "    \n",
    "    #get digits after decimal from pace_raw\n",
    "    seconds_dec = '0.'+str(pace_raw).split('.')[1]\n",
    "    #convert decimal to seconds\n",
    "    seconds= float(seconds_dec)*60\n",
    "    #add leading 0 to single-digit seconds to ensure that result is always 2 characters\n",
    "    seconds_padded = str(int(seconds)).rjust(2, '0')\n",
    "    \n",
    "    print(\"My Race Pace = \", str(minutes) + \":\" + str(seconds_padded))"
   ]
  },
  {
   "cell_type": "code",
   "execution_count": 3,
   "id": "b3ef286c-bf3d-43de-8d63-d35b6c3857c5",
   "metadata": {},
   "outputs": [
    {
     "name": "stdout",
     "output_type": "stream",
     "text": [
      "My Race Pace =  6:27\n"
     ]
    }
   ],
   "source": [
    "get_race_pace(TenK, 0, 40, 0)"
   ]
  },
  {
   "cell_type": "code",
   "execution_count": null,
   "id": "ee9eb519-2ef0-44c8-80c5-8531bc8ae284",
   "metadata": {},
   "outputs": [],
   "source": []
  }
 ],
 "metadata": {
  "kernelspec": {
   "display_name": "Python 3 (ipykernel)",
   "language": "python",
   "name": "python3"
  },
  "language_info": {
   "codemirror_mode": {
    "name": "ipython",
    "version": 3
   },
   "file_extension": ".py",
   "mimetype": "text/x-python",
   "name": "python",
   "nbconvert_exporter": "python",
   "pygments_lexer": "ipython3",
   "version": "3.8.12"
  }
 },
 "nbformat": 4,
 "nbformat_minor": 5
}
